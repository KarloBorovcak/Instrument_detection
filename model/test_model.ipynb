{
 "cells": [
  {
   "cell_type": "code",
   "execution_count": 142,
   "metadata": {},
   "outputs": [],
   "source": [
    "import tensorflow as tf\n",
    "from tensorflow.keras import datasets, layers, models\n",
    "from tensorflow.keras.optimizers import Adam\n",
    "import matplotlib.pyplot as plt\n",
    "import pandas as pd\n",
    "import os\n",
    "import numpy as np\n",
    "from sklearn.model_selection import train_test_split"
   ]
  },
  {
   "cell_type": "code",
   "execution_count": 93,
   "metadata": {},
   "outputs": [],
   "source": [
    "instruments = [\"cel\", \"cla\", \"flu\", \"gac\", \"gel\", \"org\", \"pia\", \"sax\", \"tru\", \"vio\", \"voi\"]\n",
    "\n",
    "path = '../../DataLumenDS/Processed/'\n",
    "\n",
    "df = pd.DataFrame(columns=['data', 'label'])\n",
    "\n",
    "for instrument in instruments:\n",
    "    for root, _, files in os.walk(path + instrument):\n",
    "        for file in files:\n",
    "            file_path = os.path.join(root, file)\n",
    "            data = np.load(file_path)\n",
    "            data = np.array(data)\n",
    "            data = data.reshape((data.shape[0], data.shape[1], 1))\n",
    "            temp = pd.DataFrame({'data': [data], 'label': 1 if instrument == \"cel\" else 0})\n",
    "            df = pd.concat([df, temp])\n",
    "\n",
    "        break"
   ]
  },
  {
   "cell_type": "code",
   "execution_count": 95,
   "metadata": {},
   "outputs": [
    {
     "data": {
      "text/plain": [
       "(256, 259, 1)"
      ]
     },
     "execution_count": 95,
     "metadata": {},
     "output_type": "execute_result"
    }
   ],
   "source": [
    "df['data'].iloc[1].shape"
   ]
  },
  {
   "cell_type": "code",
   "execution_count": 134,
   "metadata": {},
   "outputs": [
    {
     "name": "stderr",
     "output_type": "stream",
     "text": [
      "C:\\Users\\Karlo\\AppData\\Local\\Temp\\ipykernel_18248\\3605562656.py:8: FutureWarning: The behavior of `series[i:j]` with an integer-dtype index is deprecated. In a future version, this will be treated as *label-based* indexing, consistent with e.g. `series[i]` lookups. To retain the old behavior, use `series.iloc[i:j]`. To get the future behavior, use `series.loc[i:j]`.\n",
      "  X_train = pd.concat([X_train, X_train2[:310]])\n",
      "C:\\Users\\Karlo\\AppData\\Local\\Temp\\ipykernel_18248\\3605562656.py:10: FutureWarning: The behavior of `series[i:j]` with an integer-dtype index is deprecated. In a future version, this will be treated as *label-based* indexing, consistent with e.g. `series[i]` lookups. To retain the old behavior, use `series.iloc[i:j]`. To get the future behavior, use `series.loc[i:j]`.\n",
      "  y_train = pd.concat([y_train, y_train2[:310]])\n"
     ]
    }
   ],
   "source": [
    "temp_cellist = df[df['label'] == 1]\n",
    "temp_non_cellist = df[df['label'] == 0]\n",
    "\n",
    "X_train, X_test, y_train, y_test = train_test_split(temp_cellist['data'], temp_cellist['label'], test_size=0.2, random_state=42)\n",
    "X_train2, X_test2, y_train2, y_test2 = train_test_split(temp_non_cellist['data'], temp_non_cellist['label'], test_size=0.2, random_state=42)\n",
    "\n",
    "\n",
    "X_train = pd.concat([X_train, X_train2[:310]])\n",
    "X_test = pd.concat([X_test, X_test2])\n",
    "y_train = pd.concat([y_train, y_train2[:310]])\n",
    "y_test = pd.concat([y_test, y_test2])\n",
    "\n",
    "X_train = np.stack(X_train)\n",
    "X_test = np.stack(X_test)\n",
    "y_train = np.stack(y_train)\n",
    "y_test = np.stack(y_test)\n"
   ]
  },
  {
   "cell_type": "code",
   "execution_count": 135,
   "metadata": {},
   "outputs": [
    {
     "data": {
      "text/plain": [
       "(620, 256, 259, 1)"
      ]
     },
     "execution_count": 135,
     "metadata": {},
     "output_type": "execute_result"
    }
   ],
   "source": [
    "X_train.shape"
   ]
  },
  {
   "cell_type": "code",
   "execution_count": 139,
   "metadata": {},
   "outputs": [
    {
     "name": "stdout",
     "output_type": "stream",
     "text": [
      "Model: \"sequential_3\"\n",
      "_________________________________________________________________\n",
      " Layer (type)                Output Shape              Param #   \n",
      "=================================================================\n",
      " conv2d_9 (Conv2D)           (None, 254, 257, 16)      160       \n",
      "                                                                 \n",
      " conv2d_10 (Conv2D)          (None, 252, 255, 16)      2320      \n",
      "                                                                 \n",
      " flatten_3 (Flatten)         (None, 1028160)           0         \n",
      "                                                                 \n",
      " dense_6 (Dense)             (None, 128)               131604608 \n",
      "                                                                 \n",
      " dense_7 (Dense)             (None, 1)                 129       \n",
      "                                                                 \n",
      "=================================================================\n",
      "Total params: 131,607,217\n",
      "Trainable params: 131,607,217\n",
      "Non-trainable params: 0\n",
      "_________________________________________________________________\n"
     ]
    }
   ],
   "source": [
    "model = models.Sequential()\n",
    "model.add(layers.Conv2D(16, (3, 3), activation='relu', input_shape=(256, 259, 1)))\n",
    "model.add(layers.Conv2D(16, (3, 3), activation='relu'))\n",
    "model.add(layers.Flatten())\n",
    "\n",
    "model.add(layers.Dense(128, activation='relu'))\n",
    "model.add(layers.Dense(1, activation='sigmoid'))\n",
    "\n",
    "model.summary()"
   ]
  },
  {
   "cell_type": "code",
   "execution_count": 148,
   "metadata": {},
   "outputs": [
    {
     "name": "stdout",
     "output_type": "stream",
     "text": [
      "Epoch 1/7\n",
      "20/20 [==============================] - 30s 1s/step - loss: 0.3866 - accuracy: 0.8323 - val_loss: 0.4724 - val_accuracy: 0.7675\n",
      "Epoch 2/7\n",
      "20/20 [==============================] - 29s 1s/step - loss: 0.2198 - accuracy: 0.9403 - val_loss: 0.7928 - val_accuracy: 0.6028\n",
      "Epoch 3/7\n",
      "20/20 [==============================] - 30s 2s/step - loss: 0.0952 - accuracy: 0.9855 - val_loss: 0.4466 - val_accuracy: 0.7891\n",
      "Epoch 4/7\n",
      "20/20 [==============================] - 30s 1s/step - loss: 0.0283 - accuracy: 1.0000 - val_loss: 0.5674 - val_accuracy: 0.7578\n",
      "Epoch 5/7\n",
      "20/20 [==============================] - 29s 1s/step - loss: 0.0068 - accuracy: 1.0000 - val_loss: 0.6343 - val_accuracy: 0.7489\n",
      "Epoch 6/7\n",
      "20/20 [==============================] - 29s 1s/step - loss: 0.0029 - accuracy: 1.0000 - val_loss: 0.7090 - val_accuracy: 0.7377\n",
      "Epoch 7/7\n",
      "20/20 [==============================] - 29s 1s/step - loss: 0.0018 - accuracy: 1.0000 - val_loss: 0.6455 - val_accuracy: 0.7608\n"
     ]
    }
   ],
   "source": [
    "model.compile('Adam', loss='BinaryCrossentropy',\n",
    "              metrics=['accuracy'])\n",
    "\n",
    "history = model.fit(X_train, y_train, epochs=7, \n",
    "                    validation_data=(X_test, y_test))"
   ]
  },
  {
   "cell_type": "code",
   "execution_count": 149,
   "metadata": {},
   "outputs": [
    {
     "name": "stdout",
     "output_type": "stream",
     "text": [
      "42/42 - 5s - loss: 0.6455 - accuracy: 0.7608 - 5s/epoch - 119ms/step\n"
     ]
    },
    {
     "data": {
      "image/png": "[encoded data removed]",
      "text/plain": [
       "<Figure size 640x480 with 1 Axes>"
      ]
     },
     "metadata": {},
     "output_type": "display_data"
    }
   ],
   "source": [
    "plt.plot(history.history['accuracy'], label='accuracy')\n",
    "plt.plot(history.history['val_accuracy'], label = 'val_accuracy')\n",
    "plt.xlabel('Epoch')\n",
    "plt.ylabel('Accuracy')\n",
    "plt.ylim([0.5, 1])\n",
    "plt.legend(loc='lower right')\n",
    "\n",
    "test_loss, test_acc = model.evaluate(X_test,  y_test, verbose=2)"
   ]
  },
  {
   "cell_type": "code",
   "execution_count": 131,
   "metadata": {},
   "outputs": [
    {
     "data": {
      "text/plain": [
       "5363"
      ]
     },
     "execution_count": 131,
     "metadata": {},
     "output_type": "execute_result"
    }
   ],
   "source": [
    "len(y_train)"
   ]
  }
 ],
 "metadata": {
  "kernelspec": {
   "display_name": "Python 3",
   "language": "python",
   "name": "python3"
  },
  "language_info": {
   "codemirror_mode": {
    "name": "ipython",
    "version": 3
   },
   "file_extension": ".py",
   "mimetype": "text/x-python",
   "name": "python",
   "nbconvert_exporter": "python",
   "pygments_lexer": "ipython3",
   "version": "3.10.7"
  },
  "orig_nbformat": 4,
  "vscode": {
   "interpreter": {
    "hash": "6361a9a073a2564ceaca5b7a897782d494791772eabc03bbeceb61e708bf820f"
   }
  }
 },
 "nbformat": 4,
 "nbformat_minor": 2
}

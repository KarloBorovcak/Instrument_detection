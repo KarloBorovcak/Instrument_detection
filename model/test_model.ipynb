{
 "cells": [
  {
   "cell_type": "code",
   "execution_count": null,
   "metadata": {},
   "outputs": [],
   "source": [
    "import tensorflow as tf\n",
    "from tensorflow.keras import datasets, layers, models\n",
    "from tensorflow.keras.optimizers import Adam\n",
    "import matplotlib.pyplot as plt\n",
    "import pandas as pd\n",
    "import os\n",
    "import numpy as np\n",
    "from sklearn.model_selection import train_test_split"
   ]
  },
  {
   "cell_type": "code",
   "execution_count": null,
   "metadata": {},
   "outputs": [],
   "source": [
    "instruments = [\"cel\", \"cla\", \"flu\", \"gac\", \"gel\", \"org\", \"pia\", \"sax\", \"tru\", \"vio\", \"voi\"]\n",
    "\n",
    "path = '../../DataLumenDS/Processed/'\n",
    "\n",
    "df = pd.DataFrame(columns=['data', 'label'])\n",
    "\n",
    "for instrument in instruments:\n",
    "    for root, _, files in os.walk(path + instrument):\n",
    "        for file in files:\n",
    "            file_path = os.path.join(root, file)\n",
    "            data = np.load(file_path)\n",
    "            data = np.array(data)\n",
    "            data = data.reshape((data.shape[0], data.shape[1], 1))\n",
    "            temp = pd.DataFrame({'data': [data], 'label': 1 if instrument == \"cel\" else 0})\n",
    "            df = pd.concat([df, temp])\n",
    "\n",
    "        break"
   ]
  },
  {
   "cell_type": "code",
   "execution_count": 5,
   "metadata": {},
   "outputs": [
    {
     "data": {
      "text/plain": [
       "(26820,)"
      ]
     },
     "execution_count": 5,
     "metadata": {},
     "output_type": "execute_result"
    }
   ],
   "source": [
    "df['data'].shape"
   ]
  },
  {
   "cell_type": "code",
   "execution_count": 7,
   "metadata": {},
   "outputs": [
    {
     "name": "stderr",
     "output_type": "stream",
     "text": [
      "C:\\Users\\Karlo\\AppData\\Local\\Temp\\ipykernel_10972\\264095957.py:8: FutureWarning: The behavior of `series[i:j]` with an integer-dtype index is deprecated. In a future version, this will be treated as *label-based* indexing, consistent with e.g. `series[i]` lookups. To retain the old behavior, use `series.iloc[i:j]`. To get the future behavior, use `series.loc[i:j]`.\n",
      "  X_train = pd.concat([X_train, X_train2[:310*4]])\n",
      "C:\\Users\\Karlo\\AppData\\Local\\Temp\\ipykernel_10972\\264095957.py:10: FutureWarning: The behavior of `series[i:j]` with an integer-dtype index is deprecated. In a future version, this will be treated as *label-based* indexing, consistent with e.g. `series[i]` lookups. To retain the old behavior, use `series.iloc[i:j]`. To get the future behavior, use `series.loc[i:j]`.\n",
      "  y_train = pd.concat([y_train, y_train2[:310*4]])\n"
     ]
    }
   ],
   "source": [
    "temp_cellist = df[df['label'] == 1]\n",
    "temp_non_cellist = df[df['label'] == 0]\n",
    "\n",
    "X_train, X_test, y_train, y_test = train_test_split(temp_cellist['data'], temp_cellist['label'], test_size=0.2, random_state=42)\n",
    "X_train2, X_test2, y_train2, y_test2 = train_test_split(temp_non_cellist['data'], temp_non_cellist['label'], test_size=0.2, random_state=42)\n",
    "\n",
    "\n",
    "X_train = pd.concat([X_train, X_train2[:310*4]])\n",
    "X_test = pd.concat([X_test, X_test2])\n",
    "y_train = pd.concat([y_train, y_train2[:310*4]])\n",
    "y_test = pd.concat([y_test, y_test2])\n",
    "\n",
    "X_train = np.stack(X_train)\n",
    "X_test = np.stack(X_test)\n",
    "y_train = np.stack(y_train)\n",
    "y_test = np.stack(y_test)\n"
   ]
  },
  {
   "cell_type": "code",
   "execution_count": 9,
   "metadata": {},
   "outputs": [
    {
     "data": {
      "text/plain": [
       "(2481, 513, 33, 1)"
      ]
     },
     "execution_count": 9,
     "metadata": {},
     "output_type": "execute_result"
    }
   ],
   "source": [
    "X_train.shape"
   ]
  },
  {
   "cell_type": "code",
   "execution_count": 10,
   "metadata": {},
   "outputs": [
    {
     "name": "stdout",
     "output_type": "stream",
     "text": [
      "Model: \"sequential\"\n",
      "_________________________________________________________________\n",
      " Layer (type)                Output Shape              Param #   \n",
      "=================================================================\n",
      " conv2d (Conv2D)             (None, 511, 31, 16)       160       \n",
      "                                                                 \n",
      " conv2d_1 (Conv2D)           (None, 509, 29, 16)       2320      \n",
      "                                                                 \n",
      " flatten (Flatten)           (None, 236176)            0         \n",
      "                                                                 \n",
      " dense (Dense)               (None, 128)               30230656  \n",
      "                                                                 \n",
      " dense_1 (Dense)             (None, 1)                 129       \n",
      "                                                                 \n",
      "=================================================================\n",
      "Total params: 30,233,265\n",
      "Trainable params: 30,233,265\n",
      "Non-trainable params: 0\n",
      "_________________________________________________________________\n"
     ]
    }
   ],
   "source": [
    "model = models.Sequential()\n",
    "model.add(layers.Conv2D(16, (3, 3), activation='relu', input_shape=(513, 33, 1)))\n",
    "model.add(layers.Conv2D(16, (3, 3), activation='relu'))\n",
    "model.add(layers.Flatten())\n",
    "\n",
    "model.add(layers.Dense(128, activation='relu'))\n",
    "model.add(layers.Dense(1, activation='sigmoid'))\n",
    "\n",
    "model.summary()"
   ]
  },
  {
   "cell_type": "code",
   "execution_count": 13,
   "metadata": {},
   "outputs": [
    {
     "name": "stdout",
     "output_type": "stream",
     "text": [
      "Epoch 1/5\n",
      "78/78 [==============================] - 58s 742ms/step - loss: 0.9492 - accuracy: 0.6207 - val_loss: 0.4983 - val_accuracy: 0.7267\n",
      "Epoch 2/5\n",
      "78/78 [==============================] - 61s 781ms/step - loss: 0.5464 - accuracy: 0.7416 - val_loss: 0.7244 - val_accuracy: 0.5543\n",
      "Epoch 3/5\n",
      "78/78 [==============================] - 59s 753ms/step - loss: 0.3996 - accuracy: 0.8279 - val_loss: 0.5197 - val_accuracy: 0.7363\n",
      "Epoch 4/5\n",
      "78/78 [==============================] - 58s 745ms/step - loss: 0.2298 - accuracy: 0.9162 - val_loss: 0.4395 - val_accuracy: 0.8071\n",
      "Epoch 5/5\n",
      "78/78 [==============================] - 57s 738ms/step - loss: 0.0712 - accuracy: 0.9863 - val_loss: 0.4031 - val_accuracy: 0.8380\n"
     ]
    }
   ],
   "source": [
    "model.compile('Adam', loss='BinaryCrossentropy',\n",
    "              metrics=['accuracy'])\n",
    "\n",
    "history = model.fit(X_train, y_train, epochs=5, \n",
    "                    validation_data=(X_test, y_test))"
   ]
  },
  {
   "cell_type": "code",
   "execution_count": 14,
   "metadata": {},
   "outputs": [
    {
     "name": "stdout",
     "output_type": "stream",
     "text": [
      "168/168 - 16s - loss: 0.4031 - accuracy: 0.8380 - 16s/epoch - 97ms/step\n"
     ]
    },
    {
     "data": {
      "image/png": "[encoded data removed]",
      "text/plain": [
       "<Figure size 640x480 with 1 Axes>"
      ]
     },
     "metadata": {},
     "output_type": "display_data"
    }
   ],
   "source": [
    "plt.plot(history.history['accuracy'], label='accuracy')\n",
    "plt.plot(history.history['val_accuracy'], label = 'val_accuracy')\n",
    "plt.xlabel('Epoch')\n",
    "plt.ylabel('Accuracy')\n",
    "plt.ylim([0.5, 1])\n",
    "plt.legend(loc='lower right')\n",
    "\n",
    "test_loss, test_acc = model.evaluate(X_test,  y_test, verbose=2)"
   ]
  },
  {
   "cell_type": "code",
   "execution_count": 15,
   "metadata": {},
   "outputs": [
    {
     "name": "stdout",
     "output_type": "stream",
     "text": [
      "Saved model to disk\n"
     ]
    }
   ],
   "source": [
    "# serialize model to JSON\n",
    "model_json = model.to_json()\n",
    "with open(\"model.json\", \"w\") as json_file:\n",
    "    json_file.write(model_json)\n",
    "# serialize weights to HDF5\n",
    "model.save_weights(\"model.h5\")\n",
    "print(\"Saved model to disk\")\n",
    " \n"
   ]
  },
  {
   "cell_type": "code",
   "execution_count": null,
   "metadata": {},
   "outputs": [],
   "source": [
    "\n",
    "# load json and create model\n",
    "json_file = open('model.json', 'r')\n",
    "loaded_model_json = json_file.read()\n",
    "json_file.close()\n",
    "loaded_model = model_from_json(loaded_model_json)\n",
    "# load weights into new model\n",
    "loaded_model.load_weights(\"model.h5\")\n",
    "print(\"Loaded model from disk\")"
   ]
  }
 ],
 "metadata": {
  "kernelspec": {
   "display_name": "Python 3",
   "language": "python",
   "name": "python3"
  },
  "language_info": {
   "codemirror_mode": {
    "name": "ipython",
    "version": 3
   },
   "file_extension": ".py",
   "mimetype": "text/x-python",
   "name": "python",
   "nbconvert_exporter": "python",
   "pygments_lexer": "ipython3",
   "version": "3.10.7"
  },
  "orig_nbformat": 4,
  "vscode": {
   "interpreter": {
    "hash": "6361a9a073a2564ceaca5b7a897782d494791772eabc03bbeceb61e708bf820f"
   }
  }
 },
 "nbformat": 4,
 "nbformat_minor": 2
}
